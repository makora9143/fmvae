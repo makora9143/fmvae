{
 "cells": [
  {
   "cell_type": "code",
   "execution_count": 1,
   "metadata": {
    "collapsed": true
   },
   "outputs": [],
   "source": [
    "import dataset\n",
    "from model import FVAE, FMVAE\n",
    "from torchvision.transforms import transforms\n",
    "from torch.autograd import Variable\n",
    "import torch.optim as optim"
   ]
  },
  {
   "cell_type": "code",
   "execution_count": 2,
   "metadata": {
    "collapsed": true
   },
   "outputs": [],
   "source": [
    "compressed = transforms.Compose([dataset.ToTensor()])\n",
    "variable = dataset.ToVariable()\n",
    "loaders = dataset.setup_data_loaders(dataset.LastFMCSVDataset, False, 32, transform=compressed)"
   ]
  },
  {
   "cell_type": "code",
   "execution_count": 6,
   "metadata": {
    "collapsed": true
   },
   "outputs": [],
   "source": [
    "fmvae = FMVAE(1892, 17632, 11946, 1892, 1, 1000, 20)"
   ]
  },
  {
   "cell_type": "code",
   "execution_count": 53,
   "metadata": {
    "scrolled": true
   },
   "outputs": [
    {
     "name": "stdout",
     "output_type": "stream",
     "text": [
      "2902 3389 795\n",
      "2880 3384 792\n"
     ]
    }
   ],
   "source": [
    "fmvae = FMVAE(1892, 17632, 11946, 1892, 1, 1000, 20)\n",
    "adagrad_param = {'lr': 0.001}\n",
    "optimizer = optim.Adagrad(fmvae.parameters(), **adagrad_param)\n",
    "\n",
    "\n",
    "def train_epoch():\n",
    "    x_loader, y_loader, z_loader = iter(loaders['X']), iter(loaders['Y']), iter(loaders['Z'])\n",
    "\n",
    "    x_batches = len(loaders['X'])\n",
    "    y_batches = len(loaders['Y'])\n",
    "    z_batches = len(loaders['Z'])\n",
    "    min_batches = min(x_batches, y_batches, z_batches)\n",
    "    n = 36\n",
    "    batch_per_epoch = x_batches + y_batches + z_batches\n",
    "\n",
    "    x_ctr = 0\n",
    "    y_ctr = 0\n",
    "    z_ctr = 0\n",
    "\n",
    "    for _ in range(n):\n",
    "\n",
    "        for i in range(int(x_batches/n)):\n",
    "            x_ctr += 1\n",
    "            data = variable(next(x_loader))\n",
    "            data_kind = 'X'\n",
    "            optimizer.zero_grad()\n",
    "            loss = - fmvae(data, data_kind)\n",
    "            loss.backward()\n",
    "            optimizer.step()\n",
    "\n",
    "\n",
    "        for i in range(int(y_batches / n)):\n",
    "            y_ctr += 1\n",
    "            data = variable(next(y_loader))\n",
    "            data_kind = 'Y'\n",
    "            optimizer.zero_grad()\n",
    "            loss = - fmvae(data, data_kind)\n",
    "            loss.backward()\n",
    "            optimizer.step()\n",
    "\n",
    "        for i in range(int(z_batches / n)):\n",
    "            z_ctr += 1\n",
    "            data_kind = 'Z'\n",
    "            data = variable(next(z_loader))\n",
    "            optimizer.zero_grad()\n",
    "            loss = - fmvae(data, data_kind)\n",
    "            loss.backward()\n",
    "            optimizer.step()\n",
    "\n",
    "def train():\n",
    "    epochs = 100\n",
    "    for epoch in epochs:\n",
    "        train_epoch()\n",
    "#     if idx % 300 == 0:\n",
    "#         print(loss.data[0])\n",
    "    "
   ]
  },
  {
   "cell_type": "code",
   "execution_count": 34,
   "metadata": {},
   "outputs": [
    {
     "name": "stdout",
     "output_type": "stream",
     "text": [
      "2902 3389 795\n"
     ]
    }
   ],
   "source": [
    "adagrad_param = {'lr': 0.001}\n",
    "optimizer = optim.Adagrad(fmvae.parameters(), **adagrad_param)\n",
    "\n",
    "def train_epoch():\n",
    "    x_loader, y_loader, z_loader = iter(loaders['X']), iter(loaders['Y']), iter(loaders['Z'])\n",
    "\n",
    "    x_batches = len(loaders['X'])\n",
    "    y_batches = len(loaders['Y'])\n",
    "    z_batches = len(loaders['Z'])\n",
    "    min_batches = min(x_batches, y_batches, z_batches)\n",
    "    n = 36\n",
    "    batch_per_epoch = x_batches + y_batches + z_batches\n",
    "\n",
    "    x_ctr = 0\n",
    "    y_ctr = 0\n",
    "    z_ctr = 0\n",
    "\n",
    "    for _ in range(n):\n",
    "        optimizer.zero_grad()\n",
    "        loss = 0\n",
    "        for i in range(int(x_batches/n)):\n",
    "            x_ctr += 1\n",
    "            data = variable(next(x_loader))\n",
    "            data_kind = 'X'\n",
    "            optimizer.zero_grad()\n",
    "            loss += - fmvae(data, data_kind)        \n",
    "\n",
    "        for i in range(int(y_batches / n)):\n",
    "            y_ctr += 1\n",
    "            data = variable(next(y_loader))\n",
    "            data_kind = 'Y'\n",
    "            loss += - fmvae(data, data_kind)\n",
    "\n",
    "        for i in range(int(z_batches / n)):\n",
    "            z_ctr += 1\n",
    "            data_kind = 'Z'\n",
    "            data = variable(next(z_loader))\n",
    "            loss += - fmvae(data, data_kind)\n",
    "\n",
    "        loss.backward()\n",
    "        optimizer.step()\n",
    "    #     if idx % 300 == 0:\n",
    "    #         print(loss.data[0])\n",
    "    \n",
    "def train():\n",
    "    epochs = 100\n",
    "    for epoch in epochs:\n",
    "        train_epoch()"
   ]
  },
  {
   "cell_type": "code",
   "execution_count": 35,
   "metadata": {},
   "outputs": [
    {
     "data": {
      "text/plain": [
       "3.650314465408805"
      ]
     },
     "execution_count": 35,
     "metadata": {},
     "output_type": "execute_result"
    }
   ],
   "source": [
    "2902 / 795"
   ]
  },
  {
   "cell_type": "code",
   "execution_count": 52,
   "metadata": {},
   "outputs": [
    {
     "data": {
      "text/plain": [
       "7086"
      ]
     },
     "execution_count": 52,
     "metadata": {},
     "output_type": "execute_result"
    }
   ],
   "source": [
    "2902 + 3389 + 795"
   ]
  },
  {
   "cell_type": "code",
   "execution_count": null,
   "metadata": {
    "collapsed": true
   },
   "outputs": [],
   "source": []
  }
 ],
 "metadata": {
  "anaconda-cloud": {},
  "kernelspec": {
   "display_name": "Python [conda env:anaconda3-4.2.0]",
   "language": "python",
   "name": "conda-env-anaconda3-4.2.0-py"
  },
  "language_info": {
   "codemirror_mode": {
    "name": "ipython",
    "version": 3
   },
   "file_extension": ".py",
   "mimetype": "text/x-python",
   "name": "python",
   "nbconvert_exporter": "python",
   "pygments_lexer": "ipython3",
   "version": "3.5.2"
  },
  "latex_envs": {
   "LaTeX_envs_menu_present": true,
   "autoclose": false,
   "autocomplete": false,
   "bibliofile": "biblio.bib",
   "cite_by": "apalike",
   "current_citInitial": 1,
   "eqLabelWithNumbers": false,
   "eqNumInitial": 1,
   "hotkeys": {
    "equation": "ctrl-t"
   },
   "labels_anchors": false,
   "latex_user_defs": false,
   "report_style_numbering": false,
   "user_envs_cfg": false
  }
 },
 "nbformat": 4,
 "nbformat_minor": 2
}
